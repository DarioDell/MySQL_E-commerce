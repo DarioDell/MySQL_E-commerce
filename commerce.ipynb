{
 "cells": [
  {
   "cell_type": "code",
   "execution_count": 18,
   "id": "9097e43b",
   "metadata": {},
   "outputs": [],
   "source": [
    "import mysql.connector\n",
    "import pandas as pd\n",
    "\n",
    "db = mysql.connector.connect(\n",
    "    host= \"localhost\",\n",
    "    user= \"root\",\n",
    "    password= \"02914917227\",\n",
    "    database= \"import\",\n",
    "    port=3306\n",
    ")\n"
   ]
  },
  {
   "cell_type": "code",
   "execution_count": 22,
   "id": "ccdbb729",
   "metadata": {},
   "outputs": [],
   "source": [
    "def sql(_query):\n",
    "    \n",
    "    return pd.read_sql_query(_query, db)"
   ]
  },
  {
   "cell_type": "code",
   "execution_count": 57,
   "id": "0bff151d",
   "metadata": {},
   "outputs": [
    {
     "name": "stderr",
     "output_type": "stream",
     "text": [
      "C:\\Users\\34633\\AppData\\Local\\Temp\\ipykernel_4928\\485670605.py:3: UserWarning: pandas only supports SQLAlchemy connectable (engine/connection) or database string URI or sqlite3 DBAPI2 connection. Other DBAPI2 objects are not tested. Please consider using SQLAlchemy.\n",
      "  return pd.read_sql_query(_query, db)\n"
     ]
    }
   ],
   "source": [
    "sql(\"\"\"SELECT \n",
    "    'customer' AS tableName,\n",
    "    customerNumber,\n",
    "    COUNT(*) AS count\n",
    "FROM customers\n",
    "GROUP BY customerNumber\n",
    "HAVING COUNT(*) > 1\n",
    "UNION\n",
    "SELECT \n",
    "    'products' AS tableName,\n",
    "    productName,\n",
    "    COUNT(*) AS count\n",
    "FROM products\n",
    "GROUP BY productName\n",
    "HAVING COUNT(*) > 1\"\"\").to_html(\"1.html\", index=False)"
   ]
  },
  {
   "cell_type": "code",
   "execution_count": 58,
   "id": "a692ab3d",
   "metadata": {},
   "outputs": [
    {
     "name": "stderr",
     "output_type": "stream",
     "text": [
      "C:\\Users\\34633\\AppData\\Local\\Temp\\ipykernel_4928\\485670605.py:3: UserWarning: pandas only supports SQLAlchemy connectable (engine/connection) or database string URI or sqlite3 DBAPI2 connection. Other DBAPI2 objects are not tested. Please consider using SQLAlchemy.\n",
      "  return pd.read_sql_query(_query, db)\n"
     ]
    }
   ],
   "source": [
    "sql(\"\"\"SELECT DISTINCT country, COUNT(*) FROM customers\n",
    "GROUP BY country\n",
    "ORDER BY COUNT(*) DESC\"\"\").to_html(\"2.html\", index=False)"
   ]
  },
  {
   "cell_type": "code",
   "execution_count": 59,
   "id": "5779366c",
   "metadata": {},
   "outputs": [
    {
     "name": "stderr",
     "output_type": "stream",
     "text": [
      "C:\\Users\\34633\\AppData\\Local\\Temp\\ipykernel_4928\\485670605.py:3: UserWarning: pandas only supports SQLAlchemy connectable (engine/connection) or database string URI or sqlite3 DBAPI2 connection. Other DBAPI2 objects are not tested. Please consider using SQLAlchemy.\n",
      "  return pd.read_sql_query(_query, db)\n"
     ]
    }
   ],
   "source": [
    "sql(\"\"\"SELECT COUNT( DISTINCT productName) AS total_product FROM products\"\"\").to_html(\"3.html\", index=False)  #3"
   ]
  },
  {
   "cell_type": "code",
   "execution_count": 60,
   "id": "783ed738",
   "metadata": {},
   "outputs": [
    {
     "name": "stderr",
     "output_type": "stream",
     "text": [
      "C:\\Users\\34633\\AppData\\Local\\Temp\\ipykernel_4928\\485670605.py:3: UserWarning: pandas only supports SQLAlchemy connectable (engine/connection) or database string URI or sqlite3 DBAPI2 connection. Other DBAPI2 objects are not tested. Please consider using SQLAlchemy.\n",
      "  return pd.read_sql_query(_query, db)\n"
     ]
    }
   ],
   "source": [
    "sql(\"\"\"SELECT DISTINCT(productLine), \n",
    "\t   COUNT(productName) AS quantity_product\n",
    "FROM products\n",
    "GROUP BY productLine\"\"\").to_html(\"4.html\", index=False) #4"
   ]
  },
  {
   "cell_type": "code",
   "execution_count": 61,
   "id": "f52730be",
   "metadata": {},
   "outputs": [
    {
     "name": "stderr",
     "output_type": "stream",
     "text": [
      "C:\\Users\\34633\\AppData\\Local\\Temp\\ipykernel_4928\\485670605.py:3: UserWarning: pandas only supports SQLAlchemy connectable (engine/connection) or database string URI or sqlite3 DBAPI2 connection. Other DBAPI2 objects are not tested. Please consider using SQLAlchemy.\n",
      "  return pd.read_sql_query(_query, db)\n"
     ]
    }
   ],
   "source": [
    "sql(\"\"\"SELECT YEAR(paymentDate) AS year, \n",
    "\t   ROUND(SUM(amount),2) AS annual_amount, \n",
    "\t   MAX(amount) AS monto_max, \n",
    "       MIN(amount) AS monto_min\n",
    "FROM payments\n",
    "GROUP BY year\n",
    "ORDER BY annual_amount DESC\"\"\").to_html(\"5.html\", index=False) #5"
   ]
  },
  {
   "cell_type": "code",
   "execution_count": 62,
   "id": "5ea996b6",
   "metadata": {},
   "outputs": [
    {
     "name": "stderr",
     "output_type": "stream",
     "text": [
      "C:\\Users\\34633\\AppData\\Local\\Temp\\ipykernel_4928\\485670605.py:3: UserWarning: pandas only supports SQLAlchemy connectable (engine/connection) or database string URI or sqlite3 DBAPI2 connection. Other DBAPI2 objects are not tested. Please consider using SQLAlchemy.\n",
      "  return pd.read_sql_query(_query, db)\n"
     ]
    }
   ],
   "source": [
    "sql(\"\"\"SELECT w.warehouseName, COUNT(p.productName) As product_per_warehouse,\n",
    "\t   ROUND(COUNT(p.productName) * 100.0 / total_products.total, 2) AS percentage_of_total\n",
    "FROM warehouses w\n",
    "JOIN products p ON w.warehouseCode = p.warehouseCode\n",
    "JOIN (SELECT COUNT(*) AS total FROM products) AS total_products\n",
    "GROUP BY warehouseName, total_products.total\n",
    "ORDER BY percentage_of_total DESC\"\"\").to_html(\"6.html\", index=False)  #6"
   ]
  },
  {
   "cell_type": "code",
   "execution_count": 63,
   "id": "75e41ff7",
   "metadata": {},
   "outputs": [
    {
     "name": "stderr",
     "output_type": "stream",
     "text": [
      "C:\\Users\\34633\\AppData\\Local\\Temp\\ipykernel_4928\\485670605.py:3: UserWarning: pandas only supports SQLAlchemy connectable (engine/connection) or database string URI or sqlite3 DBAPI2 connection. Other DBAPI2 objects are not tested. Please consider using SQLAlchemy.\n",
      "  return pd.read_sql_query(_query, db)\n"
     ]
    }
   ],
   "source": [
    "sql(\"\"\"WITH customer_order AS (\n",
    "SELECT c.customerNumber, COUNT(o.orderNumber) AS cantidad_productos_comprados\n",
    "FROM customers c\n",
    "JOIN orders o ON c.customerNumber = o.customerNumber\n",
    "GROUP BY c.customerNumber\n",
    ")\n",
    "SELECT customerNumber, cantidad_productos_comprados,\n",
    "\tDENSE_RANK() OVER(ORDER BY cantidad_productos_comprados DESC) AS customer_rank\n",
    "FROM customer_order\"\"\").to_html(\"7.html\", index=False)  #7"
   ]
  },
  {
   "cell_type": "code",
   "execution_count": 64,
   "id": "51c99e25",
   "metadata": {},
   "outputs": [
    {
     "name": "stderr",
     "output_type": "stream",
     "text": [
      "C:\\Users\\34633\\AppData\\Local\\Temp\\ipykernel_4928\\485670605.py:3: UserWarning: pandas only supports SQLAlchemy connectable (engine/connection) or database string URI or sqlite3 DBAPI2 connection. Other DBAPI2 objects are not tested. Please consider using SQLAlchemy.\n",
      "  return pd.read_sql_query(_query, db)\n"
     ]
    }
   ],
   "source": [
    "sql(\"\"\"SELECT c.customerNumber AS id,\n",
    "\t   c.customerName AS customer_most_frecuency, \n",
    "\t   COUNT(o.orderNumber) AS quantity_order\n",
    "FROM customers AS c\n",
    "JOIN orders AS o ON c.customerNumber = o.customerNumber\n",
    "GROUP BY c.customerNumber, c.customerName\n",
    "HAVING COUNT(o.orderNumber) > 5\"\"\").to_html(\"8.html\", index=False)  #8"
   ]
  },
  {
   "cell_type": "code",
   "execution_count": 65,
   "id": "3f263158",
   "metadata": {},
   "outputs": [
    {
     "name": "stderr",
     "output_type": "stream",
     "text": [
      "C:\\Users\\34633\\AppData\\Local\\Temp\\ipykernel_4928\\485670605.py:3: UserWarning: pandas only supports SQLAlchemy connectable (engine/connection) or database string URI or sqlite3 DBAPI2 connection. Other DBAPI2 objects are not tested. Please consider using SQLAlchemy.\n",
      "  return pd.read_sql_query(_query, db)\n"
     ]
    }
   ],
   "source": [
    "sql(\"\"\"WITH sq1 AS(\n",
    "\tSELECT c.customerNumber AS id,\n",
    "\t\t   c.customerName AS nombre,\n",
    "\t\t   ROUND(SUM(p.amount),2) AS total\n",
    "\tFROM customers c\n",
    "    JOIN payments p ON c.customerNumber = p.customerNumber\n",
    "    GROUP BY c.customerNumber, c.customerName\n",
    ")\n",
    "SELECT id, nombre, total\n",
    "FROM sq1\n",
    "WHERE total > 250000\"\"\").to_html(\"9.html\", index=False)  #9"
   ]
  },
  {
   "cell_type": "code",
   "execution_count": 66,
   "id": "558ad953",
   "metadata": {},
   "outputs": [
    {
     "name": "stderr",
     "output_type": "stream",
     "text": [
      "C:\\Users\\34633\\AppData\\Local\\Temp\\ipykernel_4928\\485670605.py:3: UserWarning: pandas only supports SQLAlchemy connectable (engine/connection) or database string URI or sqlite3 DBAPI2 connection. Other DBAPI2 objects are not tested. Please consider using SQLAlchemy.\n",
      "  return pd.read_sql_query(_query, db)\n"
     ]
    }
   ],
   "source": [
    "sql(\"\"\"SELECT p.productLine,\n",
    "\t\tc.customerNumber AS customer,\n",
    "\t    SUM(od.quantityOrdered) AS total\n",
    "FROM products p \n",
    "JOIN orderdetails od ON p.productCode = od.productCode\n",
    "JOIN orders o ON od.orderNumber = o.orderNumber \n",
    "JOIN customers c ON o.customerNumber = c.customerNumber\n",
    "WHERE c.customerNumber IN ('124','141')\n",
    "GROUP BY p.productLine, customer\n",
    "ORDER BY productLine\"\"\").to_html(\"10.html\", index=False)  #10"
   ]
  },
  {
   "cell_type": "code",
   "execution_count": 67,
   "id": "eb954a6b",
   "metadata": {},
   "outputs": [
    {
     "name": "stderr",
     "output_type": "stream",
     "text": [
      "C:\\Users\\34633\\AppData\\Local\\Temp\\ipykernel_4928\\485670605.py:3: UserWarning: pandas only supports SQLAlchemy connectable (engine/connection) or database string URI or sqlite3 DBAPI2 connection. Other DBAPI2 objects are not tested. Please consider using SQLAlchemy.\n",
      "  return pd.read_sql_query(_query, db)\n"
     ]
    }
   ],
   "source": [
    "sql(\"\"\"SELECT c.customerNumber, \n",
    "\t   COUNT(o.orderNumber) AS quantity_orders\n",
    "FROM customers c\n",
    "JOIN orders o ON c.customerNumber = o.customerNumber\n",
    "GROUP BY c.customerNumber\n",
    "HAVING c.customerNumber IN ('124','141')\n",
    "ORDER BY quantity_orders\"\"\").to_html(\"11.html\", index=False)   #11"
   ]
  },
  {
   "cell_type": "code",
   "execution_count": 68,
   "id": "3aa6fbae",
   "metadata": {},
   "outputs": [
    {
     "name": "stderr",
     "output_type": "stream",
     "text": [
      "C:\\Users\\34633\\AppData\\Local\\Temp\\ipykernel_4928\\485670605.py:3: UserWarning: pandas only supports SQLAlchemy connectable (engine/connection) or database string URI or sqlite3 DBAPI2 connection. Other DBAPI2 objects are not tested. Please consider using SQLAlchemy.\n",
      "  return pd.read_sql_query(_query, db)\n"
     ]
    }
   ],
   "source": [
    "sql(\"\"\"SELECT  c.customerNumber AS id,\n",
    "        SUM(od.quantityOrdered) AS quantity_products\n",
    "FROM customers AS c\n",
    "JOIN orders o ON c.customerNumber = o.customerNumber\n",
    "JOIN orderdetails od ON o.orderNumber = od.orderNumber\n",
    "WHERE c.customerNumber IN ('124', '141')\n",
    "GROUP BY c.customerNumber\"\"\").to_html(\"12.html\", index=False)  #12"
   ]
  },
  {
   "cell_type": "code",
   "execution_count": 69,
   "id": "4bfeab01",
   "metadata": {},
   "outputs": [
    {
     "name": "stderr",
     "output_type": "stream",
     "text": [
      "C:\\Users\\34633\\AppData\\Local\\Temp\\ipykernel_4928\\485670605.py:3: UserWarning: pandas only supports SQLAlchemy connectable (engine/connection) or database string URI or sqlite3 DBAPI2 connection. Other DBAPI2 objects are not tested. Please consider using SQLAlchemy.\n",
      "  return pd.read_sql_query(_query, db)\n"
     ]
    }
   ],
   "source": [
    "sql(\"\"\"SELECT c.customerNumber, \n",
    "\t   p.productName,\n",
    "       SUM(od.quantityOrdered) AS cant_total_prod\n",
    "FROM orderdetails od\n",
    "JOIN orders o ON od.orderNumber = o.orderNumber\n",
    "JOIN customers c ON o.customerNumber = c.customerNumber\n",
    "JOIN products p ON od.productCode = p.productCode\n",
    "GROUP BY c.customerNumber,p.productName\n",
    "HAVING customerNumber IN ('124','141')\n",
    "ORDER BY cant_total_prod DESC\"\"\").to_html(\"13.html\", index=False)  #13"
   ]
  },
  {
   "cell_type": "code",
   "execution_count": 70,
   "id": "ef7de56c",
   "metadata": {},
   "outputs": [
    {
     "name": "stderr",
     "output_type": "stream",
     "text": [
      "C:\\Users\\34633\\AppData\\Local\\Temp\\ipykernel_4928\\485670605.py:3: UserWarning: pandas only supports SQLAlchemy connectable (engine/connection) or database string URI or sqlite3 DBAPI2 connection. Other DBAPI2 objects are not tested. Please consider using SQLAlchemy.\n",
      "  return pd.read_sql_query(_query, db)\n"
     ]
    }
   ],
   "source": [
    "sql(\"\"\"SELECT \n",
    "       p.paymentDate, \n",
    "       c.customerNumber AS id,\n",
    "       p.amount,\n",
    "\t   ROUND(SUM(p.amount) OVER(PARTITION BY c.customerNumber ORDER BY p.paymentDate),2) AS cumulative_pay\n",
    "FROM payments p\n",
    "JOIN customers c ON p.customerNumber = c.customerNumber\n",
    "GROUP BY id, p.paymentDate, p.amount\n",
    "HAVING id IN ('124','141')\n",
    "ORDER BY id\"\"\").to_html(\"14.html\", index=False)  #14"
   ]
  },
  {
   "cell_type": "code",
   "execution_count": 71,
   "id": "06ec3ad3",
   "metadata": {},
   "outputs": [
    {
     "name": "stderr",
     "output_type": "stream",
     "text": [
      "C:\\Users\\34633\\AppData\\Local\\Temp\\ipykernel_4928\\485670605.py:3: UserWarning: pandas only supports SQLAlchemy connectable (engine/connection) or database string URI or sqlite3 DBAPI2 connection. Other DBAPI2 objects are not tested. Please consider using SQLAlchemy.\n",
      "  return pd.read_sql_query(_query, db)\n"
     ]
    }
   ],
   "source": [
    "sql(\"\"\"SELECT p.productLine, \n",
    "\t   COUNT(p.productLine) AS total_products\n",
    "FROM products p\n",
    "JOIN orderdetails od ON p.productCode = od.productCode\n",
    "JOIN orders o ON od.orderNumber = o.orderNumber\n",
    "JOIN customers c ON o.customerNumber = c.customerNumber\n",
    "GROUP BY p.productLine\t\t\t\t\t\t\t\t\n",
    "HAVING COUNT(p.productLine) >  (SELECT COUNT(c.customerNumber) AS customer_planes\n",
    "FROM customers AS c\n",
    "\t\t\t\t\t\t\t\tJOIN orders o ON c.customerNumber = o.customerNumber\n",
    "\t\t\t\t\t\t\t\tJOIN orderdetails od ON o.orderNumber = od.orderNumber \n",
    "\t\t\t\t\t\t\t\tJOIN products p ON od.productCode = p.productCode\n",
    "\t\t\t\t\t\t\t\tWHERE p.productLine = 'Planes')\"\"\").to_html(\"15.html\", index=False)  #15"
   ]
  },
  {
   "cell_type": "code",
   "execution_count": 72,
   "id": "9676d14b",
   "metadata": {},
   "outputs": [
    {
     "name": "stderr",
     "output_type": "stream",
     "text": [
      "C:\\Users\\34633\\AppData\\Local\\Temp\\ipykernel_4928\\485670605.py:3: UserWarning: pandas only supports SQLAlchemy connectable (engine/connection) or database string URI or sqlite3 DBAPI2 connection. Other DBAPI2 objects are not tested. Please consider using SQLAlchemy.\n",
      "  return pd.read_sql_query(_query, db)\n"
     ]
    }
   ],
   "source": [
    "sql(\"\"\"WITH orders AS (\n",
    "SELECT p.productName, SUM(od.quantityOrdered) AS total\n",
    "FROM products p\n",
    "JOIN orderdetails od ON p.productCode = od.productCode\n",
    "GROUP BY productName\n",
    "ORDER BY total DESC\n",
    ")\n",
    "SELECT productName, total,\n",
    "\tCASE\n",
    "\t\tWHEN total < 300 THEN 'low'\n",
    "        WHEN total BETWEEN 300 AND 350 THEN 'medium'\n",
    "        ELSE 'high'\n",
    "\tEND AS categorize_prod\n",
    "FROM orders\"\"\").to_html(\"16.html\", index=False)  #16"
   ]
  },
  {
   "cell_type": "code",
   "execution_count": 73,
   "id": "262d2e20",
   "metadata": {},
   "outputs": [
    {
     "name": "stderr",
     "output_type": "stream",
     "text": [
      "C:\\Users\\34633\\AppData\\Local\\Temp\\ipykernel_4928\\485670605.py:3: UserWarning: pandas only supports SQLAlchemy connectable (engine/connection) or database string URI or sqlite3 DBAPI2 connection. Other DBAPI2 objects are not tested. Please consider using SQLAlchemy.\n",
      "  return pd.read_sql_query(_query, db)\n"
     ]
    }
   ],
   "source": [
    "sql(\"\"\"SELECT p.productCode,\n",
    "       p.MSRP,\n",
    "       od.priceEach\n",
    "FROM products p \n",
    "JOIN orderdetails od ON p.productCode = od.productCode\n",
    "GROUP BY p.productCode, p.MSRP, od.priceEach\"\"\").to_html(\"17.html\", index=False)  #17"
   ]
  },
  {
   "cell_type": "code",
   "execution_count": 74,
   "id": "a7e09177",
   "metadata": {},
   "outputs": [
    {
     "name": "stderr",
     "output_type": "stream",
     "text": [
      "C:\\Users\\34633\\AppData\\Local\\Temp\\ipykernel_4928\\485670605.py:3: UserWarning: pandas only supports SQLAlchemy connectable (engine/connection) or database string URI or sqlite3 DBAPI2 connection. Other DBAPI2 objects are not tested. Please consider using SQLAlchemy.\n",
      "  return pd.read_sql_query(_query, db)\n"
     ]
    }
   ],
   "source": [
    "sql(\"\"\"SELECT * FROM \n",
    "\t\t\t(SELECT od.orderNumber,\n",
    "\t\t\t\t\tc.customerNumber, \n",
    "\t\t\t\t\tp.productName,\n",
    "\t\t\t\t\t(od.quantityOrdered * od.priceEach) AS total_sales,\n",
    "\t\t\t\t\tDENSE_RANK() OVER(ORDER BY quantityOrdered * priceEach DESC) AS DR_sales\n",
    "\t\t\tFROM products p JOIN orderdetails od ON p.productCode = od.productCode\n",
    "            JOIN orders o ON od.orderNumber = o.orderNumber\n",
    "            JOIN customers c ON o.customerNumber = c.customerNumber) AS sq1\n",
    "HAVING DR_sales <= 10\"\"\").to_html(\"18.html\", index=False)  #18"
   ]
  },
  {
   "cell_type": "code",
   "execution_count": 75,
   "id": "d0afce6b",
   "metadata": {},
   "outputs": [
    {
     "name": "stderr",
     "output_type": "stream",
     "text": [
      "C:\\Users\\34633\\AppData\\Local\\Temp\\ipykernel_4928\\485670605.py:3: UserWarning: pandas only supports SQLAlchemy connectable (engine/connection) or database string URI or sqlite3 DBAPI2 connection. Other DBAPI2 objects are not tested. Please consider using SQLAlchemy.\n",
      "  return pd.read_sql_query(_query, db)\n"
     ]
    }
   ],
   "source": [
    "sql(\"\"\"WITH ranked_sales AS (\n",
    "    SELECT od.orderNumber,\n",
    "           c.customerNumber, \n",
    "           p.productName,\n",
    "           (od.quantityOrdered * od.priceEach) AS total_sales,\n",
    "           DENSE_RANK() OVER (ORDER BY (od.quantityOrdered * od.priceEach) DESC) AS DR_sales\n",
    "    FROM products p \n",
    "    JOIN orderdetails od ON p.productCode = od.productCode\n",
    "    JOIN orders o ON od.orderNumber = o.orderNumber\n",
    "    JOIN customers c ON o.customerNumber = c.customerNumber\n",
    ")\n",
    "SELECT *\n",
    "FROM ranked_sales\n",
    "WHERE DR_sales <= 10\n",
    "ORDER BY total_sales DESC\"\"\").to_html(\"18_2.html\", index=False)  #18.2"
   ]
  },
  {
   "cell_type": "code",
   "execution_count": 76,
   "id": "e71f8065",
   "metadata": {},
   "outputs": [
    {
     "name": "stderr",
     "output_type": "stream",
     "text": [
      "C:\\Users\\34633\\AppData\\Local\\Temp\\ipykernel_4928\\485670605.py:3: UserWarning: pandas only supports SQLAlchemy connectable (engine/connection) or database string URI or sqlite3 DBAPI2 connection. Other DBAPI2 objects are not tested. Please consider using SQLAlchemy.\n",
      "  return pd.read_sql_query(_query, db)\n"
     ]
    }
   ],
   "source": [
    "sql(\"\"\"SELECT c.customerNumber, COUNT(DISTINCT p.productLine) AS productLine\n",
    " FROM customers c\n",
    " JOIN orders o ON c.customerNumber = o.customerNumber\n",
    " JOIN orderdetails od ON o.orderNumber = od.orderNumber\n",
    " JOIN products p ON od.productCode = p.productCode\n",
    " GROUP BY c.customerNumber\n",
    " HAVING productLine = (SELECT COUNT(DISTINCT productLine) FROM productLines)\"\"\").to_html(\"19.html\", index=False)  #19"
   ]
  },
  {
   "cell_type": "code",
   "execution_count": 77,
   "id": "b16229aa",
   "metadata": {},
   "outputs": [
    {
     "name": "stderr",
     "output_type": "stream",
     "text": [
      "C:\\Users\\34633\\AppData\\Local\\Temp\\ipykernel_4928\\485670605.py:3: UserWarning: pandas only supports SQLAlchemy connectable (engine/connection) or database string URI or sqlite3 DBAPI2 connection. Other DBAPI2 objects are not tested. Please consider using SQLAlchemy.\n",
      "  return pd.read_sql_query(_query, db)\n"
     ]
    }
   ],
   "source": [
    "sql(\"\"\"SELECT \n",
    "        p.productName,\n",
    "        p.buyPrice,\n",
    "        od.priceEach,\n",
    "\t   ROUND(priceEach - buyPrice,2) AS gross_margin,\n",
    "       ROUND((priceEach - buyPrice) / buyPrice,2) * 100 AS profit_margin_percentage,\n",
    "CASE\n",
    "       WHEN (ROUND((priceEach - buyPrice) / buyPrice,2) * 100) >= 30 THEN 'YES'\n",
    "       WHEN (ROUND((priceEach - buyPrice) / buyPrice,2) * 100) < 30 THEN 'NO'\n",
    "END AS margin_classification       \n",
    "FROM products p \n",
    "JOIN orderdetails od ON p.productCode = od.productCode\"\"\").to_html(\"20.html\", index=False)  #20"
   ]
  },
  {
   "cell_type": "code",
   "execution_count": 78,
   "id": "96f660f6",
   "metadata": {},
   "outputs": [],
   "source": [
    "# Close the connection\n",
    "db.close()"
   ]
  }
 ],
 "metadata": {
  "kernelspec": {
   "display_name": "Python 3 (ipykernel)",
   "language": "python",
   "name": "python3"
  },
  "language_info": {
   "codemirror_mode": {
    "name": "ipython",
    "version": 3
   },
   "file_extension": ".py",
   "mimetype": "text/x-python",
   "name": "python",
   "nbconvert_exporter": "python",
   "pygments_lexer": "ipython3",
   "version": "3.11.2"
  }
 },
 "nbformat": 4,
 "nbformat_minor": 5
}
